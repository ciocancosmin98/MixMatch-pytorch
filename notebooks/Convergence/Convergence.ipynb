{
 "cells": [
  {
   "cell_type": "code",
   "execution_count": 1,
   "id": "8aaeef45",
   "metadata": {},
   "outputs": [],
   "source": [
    "import os\n",
    "import json\n",
    "import numpy as np"
   ]
  },
  {
   "cell_type": "code",
   "execution_count": 2,
   "id": "87365a1e",
   "metadata": {},
   "outputs": [
    {
     "name": "stdout",
     "output_type": "stream",
     "text": [
      "['animals10_10_val.json', 'animals10_11_val.json', 'animals10_12_val.json', 'animals10_13_val.json', 'animals10_14_val.json', 'animals10_15_val.json', 'animals10_16_val.json', 'animals10_17_val.json']\n"
     ]
    }
   ],
   "source": [
    "fnames = os.listdir('Input')\n",
    "print(fnames)"
   ]
  },
  {
   "cell_type": "code",
   "execution_count": 3,
   "id": "aac2096d",
   "metadata": {},
   "outputs": [],
   "source": [
    "def step_for_percentiles(percentiles, data, max_acc):\n",
    "    n_inputs = data.shape[1]\n",
    "    \n",
    "    results = {}\n",
    "    \n",
    "    for perc in percentiles:\n",
    "        results[perc] = {'acc': -1}\n",
    "    \n",
    "    for i in range(n_inputs):\n",
    "        step = data[0][i]\n",
    "        acc  = data[1][i]\n",
    "        \n",
    "        for perc in percentiles:\n",
    "            if results[perc]['acc'] < 0 and acc / max_acc >= perc - 0.00001 :\n",
    "                results[perc]['acc']      = round(acc, 4)\n",
    "                results[perc]['ksteps']   = step / 1000\n",
    "                \n",
    "                SECONDS_PER_STEP = 0.5\n",
    "                seconds = step * SECONDS_PER_STEP\n",
    "                results[perc]['minutes'] = round(seconds / 60, 2)\n",
    "                \n",
    "    return results"
   ]
  },
  {
   "cell_type": "code",
   "execution_count": 19,
   "id": "5f6e3f1a",
   "metadata": {},
   "outputs": [
    {
     "name": "stdout",
     "output_type": "stream",
     "text": [
      "{'animals10_10_val.json': {0.9: {'acc': 64.5, 'ksteps': 12.648, 'minutes': 105.4}, 0.95: {'acc': 67.7, 'ksteps': 34.41, 'minutes': 286.75}, 1.0: {'acc': 70.8, 'ksteps': 161.634, 'minutes': 1346.95}}, 'animals10_11_val.json': {0.9: {'acc': 75.3, 'ksteps': 8.602, 'minutes': 71.68}, 0.95: {'acc': 79.9, 'ksteps': 13.277, 'minutes': 110.64}, 1.0: {'acc': 82.9, 'ksteps': 123.981, 'minutes': 1033.18}}, 'animals10_12_val.json': {0.9: {'acc': 62.9, 'ksteps': 19.53, 'minutes': 162.75}, 0.95: {'acc': 65.3, 'ksteps': 32.922, 'minutes': 274.35}, 1.0: {'acc': 67.5, 'ksteps': 111.042, 'minutes': 925.35}}, 'animals10_13_val.json': {0.9: {'acc': 50.3, 'ksteps': 4.384, 'minutes': 36.53}, 0.95: {'acc': 53.7, 'ksteps': 10.624, 'minutes': 88.53}, 1.0: {'acc': 55.6, 'ksteps': 21.152, 'minutes': 176.27}}, 'animals10_14_val.json': {0.9: {'acc': 56.3, 'ksteps': 4.896, 'minutes': 40.8}, 0.95: {'acc': 59.3, 'ksteps': 10.848, 'minutes': 90.4}, 1.0: {'acc': 62.4, 'ksteps': 23.104, 'minutes': 192.53}}, 'animals10_15_val.json': {0.9: {'acc': 63.1, 'ksteps': 14.118, 'minutes': 117.65}, 0.95: {'acc': 66.3, 'ksteps': 31.132, 'minutes': 259.43}, 1.0: {'acc': 69.4, 'ksteps': 58.282, 'minutes': 485.68}}, 'animals10_16_val.json': {0.9: {'acc': 67.1, 'ksteps': 13.962, 'minutes': 116.35}, 0.95: {'acc': 70.6, 'ksteps': 30.072, 'minutes': 250.6}, 1.0: {'acc': 74.2, 'ksteps': 151.971, 'minutes': 1266.42}}, 'animals10_17_val.json': {0.9: {'acc': 68.4, 'ksteps': 9.129, 'minutes': 76.08}, 0.95: {'acc': 72.6, 'ksteps': 16.647, 'minutes': 138.72}, 1.0: {'acc': 75.4, 'ksteps': 86.099, 'minutes': 717.49}}}\n"
     ]
    }
   ],
   "source": [
    "all_results = {}\n",
    "\n",
    "for fname in fnames:\n",
    "    path = os.path.join('Input', fname)\n",
    "    \n",
    "    f = open(path,)\n",
    "    data = json.load(f)\n",
    "    \n",
    "    data = np.array([[step, acc] for _, step, acc in data])\n",
    "    \n",
    "    data = np.transpose(data)\n",
    "    \n",
    "    last_kstep, max_acc = np.max(data, axis=1)\n",
    "    last_kstep = last_kstep / 1000\n",
    "    \n",
    "    #print(last_kstep, max_acc)\n",
    "    \n",
    "    results = step_for_percentiles([0.9, 0.95, 1.0], data, max_acc)\n",
    "    all_results[fname] = results\n",
    "    \n",
    "print(all_results)"
   ]
  },
  {
   "cell_type": "code",
   "execution_count": 21,
   "id": "e8faceaf",
   "metadata": {
    "scrolled": true
   },
   "outputs": [
    {
     "name": "stdout",
     "output_type": "stream",
     "text": [
      "animals10_10_val.json:\n",
      "    0.9:\n",
      "        ksteps :\t12.648\n",
      "        minutes:\t105.4\n",
      "    0.95:\n",
      "        ksteps :\t34.41\n",
      "        minutes:\t286.75\n",
      "    1.0:\n",
      "        ksteps :\t161.634\n",
      "        minutes:\t1346.95\n",
      "animals10_11_val.json:\n",
      "    0.9:\n",
      "        ksteps :\t8.602\n",
      "        minutes:\t71.68\n",
      "    0.95:\n",
      "        ksteps :\t13.277\n",
      "        minutes:\t110.64\n",
      "    1.0:\n",
      "        ksteps :\t123.981\n",
      "        minutes:\t1033.18\n",
      "animals10_12_val.json:\n",
      "    0.9:\n",
      "        ksteps :\t19.53\n",
      "        minutes:\t162.75\n",
      "    0.95:\n",
      "        ksteps :\t32.922\n",
      "        minutes:\t274.35\n",
      "    1.0:\n",
      "        ksteps :\t111.042\n",
      "        minutes:\t925.35\n",
      "animals10_13_val.json:\n",
      "    0.9:\n",
      "        ksteps :\t4.384\n",
      "        minutes:\t36.53\n",
      "    0.95:\n",
      "        ksteps :\t10.624\n",
      "        minutes:\t88.53\n",
      "    1.0:\n",
      "        ksteps :\t21.152\n",
      "        minutes:\t176.27\n",
      "animals10_14_val.json:\n",
      "    0.9:\n",
      "        ksteps :\t4.896\n",
      "        minutes:\t40.8\n",
      "    0.95:\n",
      "        ksteps :\t10.848\n",
      "        minutes:\t90.4\n",
      "    1.0:\n",
      "        ksteps :\t23.104\n",
      "        minutes:\t192.53\n",
      "animals10_15_val.json:\n",
      "    0.9:\n",
      "        ksteps :\t14.118\n",
      "        minutes:\t117.65\n",
      "    0.95:\n",
      "        ksteps :\t31.132\n",
      "        minutes:\t259.43\n",
      "    1.0:\n",
      "        ksteps :\t58.282\n",
      "        minutes:\t485.68\n",
      "animals10_16_val.json:\n",
      "    0.9:\n",
      "        ksteps :\t13.962\n",
      "        minutes:\t116.35\n",
      "    0.95:\n",
      "        ksteps :\t30.072\n",
      "        minutes:\t250.6\n",
      "    1.0:\n",
      "        ksteps :\t151.971\n",
      "        minutes:\t1266.42\n",
      "animals10_17_val.json:\n",
      "    0.9:\n",
      "        ksteps :\t9.129\n",
      "        minutes:\t76.08\n",
      "    0.95:\n",
      "        ksteps :\t16.647\n",
      "        minutes:\t138.72\n",
      "    1.0:\n",
      "        ksteps :\t86.099\n",
      "        minutes:\t717.49\n"
     ]
    }
   ],
   "source": [
    "def print_results():\n",
    "    for fname in all_results:\n",
    "        print(fname + ':')\n",
    "        \n",
    "        results = all_results[fname]\n",
    "        \n",
    "        for percentage in results:\n",
    "            print(' ' * 4 + str(percentage) + ':')\n",
    "            \n",
    "            entry = results[percentage]\n",
    "            \n",
    "            for key in entry:\n",
    "                if key == 'acc':\n",
    "                    continue\n",
    "                print(' ' * 8 + str(key).ljust(7) + ':\\t' + str(entry[key]))\n",
    "        \n",
    "print_results()"
   ]
  },
  {
   "cell_type": "code",
   "execution_count": null,
   "id": "1504794f",
   "metadata": {},
   "outputs": [],
   "source": []
  },
  {
   "cell_type": "code",
   "execution_count": null,
   "id": "3cfc7b81",
   "metadata": {},
   "outputs": [],
   "source": []
  }
 ],
 "metadata": {
  "kernelspec": {
   "display_name": "Python 3",
   "language": "python",
   "name": "python3"
  },
  "language_info": {
   "codemirror_mode": {
    "name": "ipython",
    "version": 3
   },
   "file_extension": ".py",
   "mimetype": "text/x-python",
   "name": "python",
   "nbconvert_exporter": "python",
   "pygments_lexer": "ipython3",
   "version": "3.8.8"
  }
 },
 "nbformat": 4,
 "nbformat_minor": 5
}
